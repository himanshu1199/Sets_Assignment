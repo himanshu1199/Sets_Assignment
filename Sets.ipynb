{
 "cells": [
  {
   "cell_type": "markdown",
   "id": "b62135d7-1567-4594-a7fe-61e6c38ead60",
   "metadata": {},
   "source": [
    "***Assignment - Sets***"
   ]
  },
  {
   "cell_type": "markdown",
   "id": "b0157a5b-06a5-48ce-8c90-598f6d78c81a",
   "metadata": {},
   "source": [
    "Ans 1 A **set** is a collection of unordered values or items. The set in Python has similar properties to the set in mathematics. The set in python takes one parameter. It is an optional parameter that contains values to be inserted into the set. The set in python creates and returns a set using the provided iterable values in the parameter of the set() function.\n",
    "\n",
    "Syntax : my_set = set(iterable) or my_set = {value1, value2, value3, ...}"
   ]
  },
  {
   "cell_type": "markdown",
   "id": "44b97118-8a9d-4d79-9740-64611e044be5",
   "metadata": {},
   "source": [
    "Ans 2 Create a set below"
   ]
  },
  {
   "cell_type": "code",
   "execution_count": 15,
   "id": "7b9185d9-bcb6-40c3-ad5d-4ba632590cfe",
   "metadata": {},
   "outputs": [],
   "source": [
    "S1 = {1,2,5,4,5,4,5,5, \"Himanshu\", 4+4j}"
   ]
  },
  {
   "cell_type": "code",
   "execution_count": 16,
   "id": "d9b21a7d-6122-4a1e-9492-c6a027fba4ae",
   "metadata": {},
   "outputs": [
    {
     "name": "stdout",
     "output_type": "stream",
     "text": [
      "{(4+4j), 1, 2, 4, 5, 'Himanshu'}\n"
     ]
    }
   ],
   "source": [
    "print(S1)"
   ]
  },
  {
   "cell_type": "code",
   "execution_count": 17,
   "id": "9eeac205-236a-4d1b-b3d4-3970edec9db8",
   "metadata": {},
   "outputs": [
    {
     "data": {
      "text/plain": [
       "set"
      ]
     },
     "execution_count": 17,
     "metadata": {},
     "output_type": "execute_result"
    }
   ],
   "source": [
    "type(S1)"
   ]
  },
  {
   "cell_type": "markdown",
   "id": "9ddfa4eb-71a5-4fe4-ab90-a5461112a66d",
   "metadata": {},
   "source": [
    "Ans 3 Add Elements in set "
   ]
  },
  {
   "cell_type": "code",
   "execution_count": 18,
   "id": "fe19dd27-5ba7-44f1-a0d3-1c89216e41a8",
   "metadata": {},
   "outputs": [],
   "source": [
    "S1.add(\"PW Skills\")"
   ]
  },
  {
   "cell_type": "code",
   "execution_count": 19,
   "id": "efb047a5-1d23-478c-b3a3-433d2cd55ee8",
   "metadata": {},
   "outputs": [
    {
     "name": "stdout",
     "output_type": "stream",
     "text": [
      "{(4+4j), 1, 2, 4, 5, 'Himanshu', 'PW Skills'}\n"
     ]
    }
   ],
   "source": [
    "print(S1)"
   ]
  },
  {
   "cell_type": "markdown",
   "id": "b4d2ad84-4f86-42e5-af4c-7eea2f9f610b",
   "metadata": {},
   "source": [
    "Ans 4 Remove Element from set "
   ]
  },
  {
   "cell_type": "code",
   "execution_count": 20,
   "id": "dc880223-7743-43c5-a2f6-38ee40626846",
   "metadata": {},
   "outputs": [],
   "source": [
    "S1.remove(4+4j)"
   ]
  },
  {
   "cell_type": "code",
   "execution_count": 21,
   "id": "6380663b-3ecc-42eb-ac02-8ad2ab325190",
   "metadata": {},
   "outputs": [
    {
     "name": "stdout",
     "output_type": "stream",
     "text": [
      "{1, 2, 4, 5, 'Himanshu', 'PW Skills'}\n"
     ]
    }
   ],
   "source": [
    "print(S1)"
   ]
  },
  {
   "cell_type": "markdown",
   "id": "8c7f0162-36d3-44de-94a2-18f3cad4195b",
   "metadata": {},
   "source": [
    "Ans 5 Length of set "
   ]
  },
  {
   "cell_type": "code",
   "execution_count": 22,
   "id": "d0fd4009-7b9d-4775-a373-8d7f79755657",
   "metadata": {},
   "outputs": [
    {
     "data": {
      "text/plain": [
       "6"
      ]
     },
     "execution_count": 22,
     "metadata": {},
     "output_type": "execute_result"
    }
   ],
   "source": [
    "len(S1)"
   ]
  }
 ],
 "metadata": {
  "kernelspec": {
   "display_name": "Python 3 (ipykernel)",
   "language": "python",
   "name": "python3"
  },
  "language_info": {
   "codemirror_mode": {
    "name": "ipython",
    "version": 3
   },
   "file_extension": ".py",
   "mimetype": "text/x-python",
   "name": "python",
   "nbconvert_exporter": "python",
   "pygments_lexer": "ipython3",
   "version": "3.10.8"
  }
 },
 "nbformat": 4,
 "nbformat_minor": 5
}
